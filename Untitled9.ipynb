{
  "nbformat": 4,
  "nbformat_minor": 0,
  "metadata": {
    "colab": {
      "name": "Untitled9.ipynb",
      "provenance": [],
      "authorship_tag": "ABX9TyMlBncRuJgu1kh8N0j1hn20",
      "include_colab_link": true
    },
    "kernelspec": {
      "name": "python3",
      "display_name": "Python 3"
    },
    "language_info": {
      "name": "python"
    }
  },
  "cells": [
    {
      "cell_type": "markdown",
      "metadata": {
        "id": "view-in-github",
        "colab_type": "text"
      },
      "source": [
        "<a href=\"https://colab.research.google.com/github/reggy0/hog_and_merging_images/blob/main/Untitled9.ipynb\" target=\"_parent\"><img src=\"https://colab.research.google.com/assets/colab-badge.svg\" alt=\"Open In Colab\"/></a>"
      ]
    },
    {
      "cell_type": "code",
      "execution_count": null,
      "metadata": {
        "id": "bUmIILbBaqyA"
      },
      "outputs": [],
      "source": [
        "\n",
        "from skimage import data, color, util\n",
        "from skimage.restoration import denoise_tv_chambolle\n",
        "from skimage.feature import hog\n",
        "\n",
        "def task(image):\n",
        "    \"\"\"\n",
        "    Apply some functions and return an image.\n",
        "    \"\"\"\n",
        "    image = denoise_tv_chambolle(image[0][0], weight=0.1, channel_axis=-1)\n",
        "    fd, hog_image = hog(color.rgb2gray(image), orientations=8,\n",
        "                        pixels_per_cell=(16, 16), cells_per_block=(1, 1),\n",
        "                        visualize=True)\n",
        "    return hog_image\n",
        "\n",
        "\n",
        "# Prepare images\n",
        "hubble = data.hubble_deep_field()\n",
        "width = 10\n",
        "pics = util.view_as_windows(hubble, (width, hubble.shape[1], hubble.shape[2]), step=width)"
      ]
    },
    {
      "cell_type": "code",
      "source": [
        "\n",
        "def classic_loop():\n",
        "    for image in pics:\n",
        "        task(image)\n",
        "\n",
        "\n",
        "%timeit classic_loop()"
      ],
      "metadata": {
        "id": "s54J2Gi8awuA"
      },
      "execution_count": null,
      "outputs": []
    },
    {
      "cell_type": "code",
      "source": [
        "def load_images_from_folder(folder,folder2):\n",
        "images = []\n",
        "i=0\n",
        "for filename in os.listdir(folder):\n",
        "    for filename2 in os.listdir(folder2):\n",
        "        img1 = cv2.imread(os.path.join(folder,filename))\n",
        "        img2 = cv2.imread(os.path.join(folder2,filename2))\n",
        "        img2 = np.fliplr(img2)\n",
        "        vis = np.concatenate((img1, img2), axis=1)"
      ],
      "metadata": {
        "id": "61DDuXrYaxMN"
      },
      "execution_count": null,
      "outputs": []
    }
  ]
}