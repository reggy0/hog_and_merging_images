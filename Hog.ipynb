{
  "nbformat": 4,
  "nbformat_minor": 0,
  "metadata": {
    "colab": {
      "name": "Hog.ipynb",
      "provenance": [],
      "authorship_tag": "ABX9TyOA696yj0mOXBzyDUcFWNrR",
      "include_colab_link": true
    },
    "kernelspec": {
      "name": "python3",
      "display_name": "Python 3"
    },
    "language_info": {
      "name": "python"
    }
  },
  "cells": [
    {
      "cell_type": "markdown",
      "metadata": {
        "id": "view-in-github",
        "colab_type": "text"
      },
      "source": [
        "<a href=\"https://colab.research.google.com/github/reggy0/hog_and_merging_images/blob/main/Hog.ipynb\" target=\"_parent\"><img src=\"https://colab.research.google.com/assets/colab-badge.svg\" alt=\"Open In Colab\"/></a>"
      ]
    },
    {
      "cell_type": "code",
      "execution_count": null,
      "metadata": {
        "id": "MmndBGj9B8qp"
      },
      "outputs": [],
      "source": [
        "import numpy as np\n",
        "import cv2\n",
        "import os\n",
        "from imutils import paths\n",
        "from keras.preprocessing.image import img_to_array"
      ]
    },
    {
      "cell_type": "code",
      "source": [
        "Image_dir = \"dataset/lemons/\"\n",
        "print(os.listdir(image_dir)) #green/ mature/\n",
        "# resize 32x32\n",
        "SIZE = 32\n",
        "data = []\n",
        "labels = []"
      ],
      "metadata": {
        "id": "FG3K5ST4CpK7"
      },
      "execution_count": null,
      "outputs": []
    },
    {
      "cell_type": "code",
      "source": [
        "imagePaths = np.array(list(paths.list_images(dir_imagenes)))\n",
        "#it only load .jpeg, jpg y png.\n",
        "for (i, imagePath) in enumerate(imagePaths):\n",
        "    # Extraer la etiqueta en base a la ruta del archivo\n",
        "    # formato asumido:\n",
        "    # /path/to/dataset/{class}/{image}.jpg\n",
        "    label = imagePath.split(os.path.sep)[-2]\n",
        "    \n",
        "    # Cargar imagen desde el disco\n",
        "    img = cv2.imread(imagePath)\n",
        "    \n",
        "    # pasar de BGR a RGB\n",
        "    img = cv2.cvtColor(img, cv2.COLOR_BGR2RGB)\n",
        "    \n",
        "    # Redimensionar las imágenes para un procesamiento más rápido:\n",
        "    img = cv2.resize(img, (SIZE, SIZE), interpolation = cv2.INTER_AREA)\n",
        "    \n",
        "    #Convertir a array la imagen con el pre-procesador de keras\n",
        "    img = img_to_array(img)\n",
        "    \n",
        "    # Agregar imagenes a la lista\n",
        "    data.append(img)\n",
        "    labels.append(label)"
      ],
      "metadata": {
        "id": "p8wGhz51Cq9Z"
      },
      "execution_count": null,
      "outputs": []
    },
    {
      "cell_type": "code",
      "source": [
        "data = np.array(data)\n",
        "labels =  np.array(labels)"
      ],
      "metadata": {
        "id": "lyXoz5plCsDT"
      },
      "execution_count": null,
      "outputs": []
    }
  ]
}