{
  "nbformat": 4,
  "nbformat_minor": 0,
  "metadata": {
    "colab": {
      "name": "4D_hog_and_concatenating_images.ipynb",
      "provenance": [],
      "authorship_tag": "ABX9TyPU/X0D0sExghvwfJkR7tRU",
      "include_colab_link": true
    },
    "kernelspec": {
      "name": "python3",
      "display_name": "Python 3"
    },
    "language_info": {
      "name": "python"
    }
  },
  "cells": [
    {
      "cell_type": "markdown",
      "metadata": {
        "id": "view-in-github",
        "colab_type": "text"
      },
      "source": [
        "<a href=\"https://colab.research.google.com/github/reggy0/hog_and_merging_images/blob/main/4D_hog_and_concatenating_images.ipynb\" target=\"_parent\"><img src=\"https://colab.research.google.com/assets/colab-badge.svg\" alt=\"Open In Colab\"/></a>"
      ]
    },
    {
      "cell_type": "code",
      "execution_count": null,
      "metadata": {
        "id": "LkNs65pdZY3w"
      },
      "outputs": [],
      "source": [
        "# importing required packages\n",
        "import numpy as np\n",
        "import cv2\n",
        "import os\n",
        "from imutils import paths\n",
        "from keras.preprocessing.image import img_to_array\n",
        "from skimage import data, color, util\n",
        "from skimage.feature import hog"
      ]
    },
    {
      "cell_type": "code",
      "source": [
        "dir_imagenes = \"path to your image directory\"# initializing the path directory to that name\n",
        "print(os.listdir(dir_imagenes)) # listing the images in the directory"
      ],
      "metadata": {
        "id": "J6zbfpWhZ78H"
      },
      "execution_count": null,
      "outputs": []
    },
    {
      "cell_type": "code",
      "source": [
        "# change the images into array\n",
        "imagePaths = np.array(list(paths.list_images(dir_imagenes)))"
      ],
      "metadata": {
        "id": "uGOOsQdcbJ4R"
      },
      "execution_count": null,
      "outputs": []
    },
    {
      "cell_type": "code",
      "source": [
        "# For loop that will iterate through the directory containing the images\n",
        "\n",
        "for (i, imagePath) in enumerate(imagePaths):\n",
        "    fd, hog_image = hog(color.rgb2gray(image), orientations=8,\n",
        "                       pixels_per_cell=(16, 16), cells_per_block=(1, 1),\n",
        "                        visualize=True) # this is the hog\n",
        "    img = img_to_array(img)# convert the array to images\n",
        "return hog_image"
      ],
      "metadata": {
        "id": "EtSDnL3sc9w6"
      },
      "execution_count": null,
      "outputs": []
    },
    {
      "cell_type": "code",
      "source": [
        "# method that will iterate and concatenate the hog folder and the original image folder\n",
        "\n",
        "def load_images_from_folder(folder,folder2):\n",
        "    images = []\n",
        "    i=0\n",
        "    for filename, filename2 in zip(os.listdir(folder), os.listdir(folder2)):\n",
        "        img1 = cv2.imread(os.path.join(folder,filename))# pass in your folder path and name the same to the second one\n",
        "        img2 = cv2.imread(os.path.join(folder2,filename2))\n",
        "        img2 = np.fliplr(img2)\n",
        "        vis = np.concatenate((img1, img2), axis=1)"
      ],
      "metadata": {
        "id": "DRW-hWAVeg6D"
      },
      "execution_count": null,
      "outputs": []
    }
  ]
}